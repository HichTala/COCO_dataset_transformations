{
 "cells": [
  {
   "cell_type": "code",
   "execution_count": 1,
   "metadata": {},
   "outputs": [],
   "source": [
    "import json\n",
    "\n",
    "import funcy\n",
    "import matplotlib.pyplot as plt\n",
    "import numpy as np\n",
    "from sklearn.model_selection import train_test_split\n",
    "\n",
    "from super_pycocotools.coco import SuperCOCO"
   ]
  },
  {
   "cell_type": "code",
   "execution_count": null,
   "metadata": {
    "collapsed": false,
    "jupyter": {
     "outputs_hidden": false
    }
   },
   "outputs": [
    {
     "name": "stdout",
     "output_type": "stream",
     "text": [
      "processing LogoDet\n",
      "train data\n",
      "loading annotations into memory...\n",
      "Done (t=1.56s)\n",
      "creating index...\n",
      "index created!\n",
      "processing DeepFruits\n",
      "train data\n",
      "loading annotations into memory...\n",
      "Done (t=0.01s)\n",
      "creating index...\n",
      "index created!\n",
      "val data\n",
      "loading annotations into memory...\n",
      "Done (t=0.01s)\n",
      "creating index...\n",
      "index created!\n",
      "test data\n",
      "loading annotations into memory...\n",
      "Done (t=0.00s)\n",
      "creating index...\n",
      "index created!\n",
      "processing SIXray\n",
      "train data\n",
      "loading annotations into memory...\n",
      "Done (t=0.33s)\n",
      "creating index...\n",
      "index created!\n",
      "val data\n",
      "loading annotations into memory...\n",
      "Done (t=0.01s)\n",
      "creating index...\n",
      "index created!\n",
      "test data\n",
      "loading annotations into memory...\n",
      "Done (t=0.01s)\n",
      "creating index...\n",
      "index created!\n",
      "processing clipart\n",
      "train data\n",
      "loading annotations into memory...\n",
      "Done (t=0.01s)\n",
      "creating index...\n",
      "index created!\n",
      "val data\n",
      "loading annotations into memory...\n",
      "Done (t=0.00s)\n",
      "creating index...\n",
      "index created!\n",
      "test data\n",
      "loading annotations into memory...\n",
      "Done (t=0.01s)\n",
      "creating index...\n",
      "index created!\n",
      "processing comic\n",
      "train data\n",
      "loading annotations into memory...\n",
      "Done (t=0.01s)\n",
      "creating index...\n",
      "index created!\n",
      "val data\n",
      "loading annotations into memory...\n",
      "Done (t=0.00s)\n",
      "creating index...\n",
      "index created!\n",
      "test data\n",
      "loading annotations into memory...\n",
      "Done (t=0.01s)\n",
      "creating index...\n",
      "index created!\n",
      "processing watercolor\n",
      "train data\n",
      "loading annotations into memory...\n",
      "Done (t=0.02s)\n",
      "creating index...\n",
      "index created!\n",
      "val data\n",
      "loading annotations into memory...\n",
      "Done (t=0.00s)\n",
      "creating index...\n",
      "index created!\n",
      "test data\n",
      "loading annotations into memory...\n",
      "Done (t=0.01s)\n",
      "creating index...\n",
      "index created!\n",
      "processing CrowdHuman\n",
      "train data\n",
      "loading annotations into memory...\n",
      "Done (t=1.93s)\n",
      "creating index...\n",
      "index created!\n",
      "val data\n",
      "loading annotations into memory...\n",
      "Done (t=0.98s)\n",
      "creating index...\n",
      "index created!\n",
      "test data\n",
      "loading annotations into memory...\n",
      "Done (t=0.29s)\n",
      "creating index...\n",
      "index created!\n",
      "processing DIOR\n",
      "train data\n",
      "loading annotations into memory...\n",
      "Done (t=1.67s)\n",
      "creating index...\n",
      "index created!\n",
      "val data\n",
      "loading annotations into memory...\n",
      "Done (t=0.14s)\n",
      "creating index...\n",
      "index created!\n",
      "test data\n",
      "loading annotations into memory...\n",
      "Done (t=0.16s)\n",
      "creating index...\n",
      "index created!\n",
      "processing DOTA\n",
      "train data\n",
      "loading annotations into memory...\n",
      "Done (t=6.62s)\n",
      "creating index...\n",
      "index created!\n",
      "val data\n",
      "loading annotations into memory...\n",
      "Done (t=0.25s)\n",
      "creating index...\n",
      "index created!\n",
      "test data\n",
      "loading annotations into memory...\n",
      "Done (t=0.46s)\n",
      "creating index...\n",
      "index created!\n",
      "processing fashionpedia\n",
      "train data\n",
      "loading annotations into memory...\n",
      "Done (t=4.97s)\n",
      "creating index...\n",
      "index created!\n",
      "val data\n",
      "loading annotations into memory...\n",
      "Done (t=0.18s)\n",
      "creating index...\n",
      "index created!\n",
      "test data\n",
      "loading annotations into memory...\n",
      "Done (t=3.73s)\n",
      "creating index...\n",
      "index created!\n",
      "processing COCO\n",
      "train data\n",
      "loading annotations into memory...\n"
     ]
    }
   ],
   "source": [
    "super_ann_file = './datasets.json'\n",
    "\n",
    "#initialize COCO api\n",
    "coco = SuperCOCO(super_ann_file)"
   ]
  },
  {
   "cell_type": "code",
   "execution_count": null,
   "metadata": {
    "collapsed": false,
    "jupyter": {
     "outputs_hidden": false
    }
   },
   "outputs": [],
   "source": [
    "len(coco.LogoDet.train.getImgIds())"
   ]
  },
  {
   "cell_type": "code",
   "execution_count": null,
   "metadata": {
    "collapsed": false,
    "jupyter": {
     "outputs_hidden": false
    }
   },
   "outputs": [],
   "source": [
    "annotation_ids = coco.LogoDet.train.getAnnIds()\n",
    "annotations = coco.LogoDet.train.loadAnns(annotation_ids)"
   ]
  },
  {
   "cell_type": "code",
   "execution_count": null,
   "metadata": {
    "collapsed": false,
    "jupyter": {
     "outputs_hidden": false
    },
    "pycharm": {
     "is_executing": true
    }
   },
   "outputs": [],
   "source": [
    "annotation_ids = funcy.lmap(lambda a: int(a['category_id']), annotations)\n",
    "annotation_ids = funcy.lremove(lambda i: annotation_ids.count(i) <= 30, annotation_ids)\n",
    "annotations = funcy.lremove(lambda a: a['category_id'] not in annotation_ids, annotations)"
   ]
  },
  {
   "cell_type": "code",
   "execution_count": null,
   "metadata": {
    "collapsed": false,
    "jupyter": {
     "outputs_hidden": false
    }
   },
   "outputs": [],
   "source": [
    "category_ids = coco.LogoDet.train.getCatIds()\n",
    "categories = coco.LogoDet.train.loadCats(category_ids)"
   ]
  },
  {
   "cell_type": "code",
   "execution_count": null,
   "metadata": {
    "collapsed": false,
    "jupyter": {
     "outputs_hidden": false
    },
    "pycharm": {
     "is_executing": true
    }
   },
   "outputs": [],
   "source": [
    "categories = funcy.lremove(lambda c: c['id'] not in annotation_ids, categories)"
   ]
  },
  {
   "cell_type": "code",
   "execution_count": null,
   "metadata": {
    "collapsed": false,
    "jupyter": {
     "outputs_hidden": false
    }
   },
   "outputs": [],
   "source": [
    "logo_split = {}\n",
    "for ann_id in annotation_ids:\n",
    "    annotation = coco.LogoDet.train.loadAnns(ann_id)[0]\n",
    "    cat_id = annotation['category_id']\n",
    "    im_id = annotation['image_id']\n",
    "    if cat_id not in logo_split:\n",
    "        logo_split[cat_id] = []\n",
    "    logo_split[cat_id].append(im_id)"
   ]
  },
  {
   "cell_type": "code",
   "execution_count": null,
   "metadata": {},
   "outputs": [],
   "source": [
    "logo_split = {}\n",
    "file_names = []\n",
    "for ann in annotations:\n",
    "    ann_id = ann['id']\n",
    "    annotation = coco.LogoDet.train.loadAnns(ann_id)[0]\n",
    "    cat_id = annotation['category_id']\n",
    "    im_id = annotation['image_id']\n",
    "    im = coco.LogoDet.train.loadImgs(im_id)[0]\n",
    "    image = Image.open('/gpfsscratch/rech/vlf/ues92cf/LogoDet/train2017/' + im['file_name'])\n",
    "    if image.size == (im['width'], im['height']): \n",
    "        if cat_id not in logo_split:\n",
    "            logo_split[cat_id] = []\n",
    "        if im['file_name'] not in file_names:\n",
    "            logo_split[cat_id].append(im_id)\n",
    "            file_names.append(im['file_name'])\n",
    "    else:\n",
    "        print(i, im['file_name'], image.size, (im['width'], im['height']))\n",
    "        i += 1"
   ]
  },
  {
   "cell_type": "code",
   "execution_count": null,
   "metadata": {
    "collapsed": false,
    "jupyter": {
     "outputs_hidden": false
    }
   },
   "outputs": [],
   "source": [
    "train = []\n",
    "test = []\n",
    "for cat_id, im_id in logo_split.items():\n",
    "    x_train, x_test = train_test_split(im_id, train_size=0.8)\n",
    "    train += list(x_train)\n",
    "    test += list(x_test)"
   ]
  },
  {
   "cell_type": "code",
   "execution_count": null,
   "metadata": {
    "collapsed": false,
    "jupyter": {
     "outputs_hidden": false
    }
   },
   "outputs": [],
   "source": [
    "image_ids = coco.LogoDet.train.getImgIds()\n",
    "images = coco.LogoDet.train.loadImgs(image_ids)"
   ]
  },
  {
   "cell_type": "code",
   "execution_count": null,
   "metadata": {
    "collapsed": false,
    "jupyter": {
     "outputs_hidden": false
    }
   },
   "outputs": [],
   "source": [
    "train_annotations = funcy.lfilter(lambda a: int(a['image_id']) in train, annotations)\n",
    "train_images = funcy.lfilter(lambda i: int(i['id']) in train, images)\n",
    "\n",
    "test_annotations = funcy.lfilter(lambda a: int(a['image_id']) in test, annotations)\n",
    "test_images = funcy.lfilter(lambda i: int(i['id']) in test, images)"
   ]
  },
  {
   "cell_type": "code",
   "execution_count": null,
   "metadata": {
    "collapsed": false,
    "jupyter": {
     "outputs_hidden": false
    },
    "pycharm": {
     "is_executing": true
    }
   },
   "outputs": [],
   "source": [
    "trainjson = \"/gpfsscratch/rech/vlf/ues92cf/LogoDet/annotations/instances_train.json\"\n",
    "\n",
    "with open(trainjson, 'wt', encoding='UTF-8') as coco:\n",
    "    json.dump({'images': train_images, 'annotations': train_annotations, 'categories': categories}, coco, indent=2, sort_keys=True)\n",
    "\n",
    "testjson = \"/gpfsscratch/rech/vlf/ues92cf/LogoDet/annotations/instances_testval.json\"\n",
    "\n",
    "with open(testjson, 'wt', encoding='UTF-8') as coco:\n",
    "    json.dump({'images': test_images, 'annotations': test_annotations, 'categories': categories}, coco, indent=2, sort_keys=True)"
   ]
  }
 ],
 "metadata": {
  "kernelspec": {
   "display_name": "Python 3 (ipykernel)",
   "language": "python",
   "name": "python3"
  },
  "language_info": {
   "codemirror_mode": {
    "name": "ipython",
    "version": 3
   },
   "file_extension": ".py",
   "mimetype": "text/x-python",
   "name": "python",
   "nbconvert_exporter": "python",
   "pygments_lexer": "ipython3",
   "version": "3.9.0"
  }
 },
 "nbformat": 4,
 "nbformat_minor": 4
}
