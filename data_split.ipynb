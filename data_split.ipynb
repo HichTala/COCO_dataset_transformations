{
 "cells": [
  {
   "cell_type": "code",
   "execution_count": 145,
   "metadata": {
    "collapsed": true
   },
   "outputs": [],
   "source": [
    "import json\n",
    "\n",
    "import funcy\n",
    "import matplotlib.pyplot as plt\n",
    "import numpy as np\n",
    "from sklearn.model_selection import train_test_split\n",
    "from skmultilearn.model_selection import iterative_train_test_split\n",
    "\n",
    "from super_pycocotools.coco import SuperCOCO"
   ]
  },
  {
   "cell_type": "code",
   "execution_count": 105,
   "outputs": [
    {
     "name": "stdout",
     "output_type": "stream",
     "text": [
      "processing LogoDet\n",
      "train data\n",
      "loading annotations into memory...\n",
      "Done (t=0.97s)\n",
      "creating index...\n",
      "index created!\n"
     ]
    }
   ],
   "source": [
    "super_ann_file = './datasets.json'\n",
    "\n",
    "#initialize COCO api\n",
    "coco = SuperCOCO(super_ann_file)"
   ],
   "metadata": {
    "collapsed": false
   }
  },
  {
   "cell_type": "code",
   "execution_count": 106,
   "outputs": [
    {
     "data": {
      "text/plain": "158654"
     },
     "execution_count": 106,
     "metadata": {},
     "output_type": "execute_result"
    }
   ],
   "source": [
    "len(coco.LogoDet.train.getImgIds())"
   ],
   "metadata": {
    "collapsed": false
   }
  },
  {
   "cell_type": "code",
   "execution_count": null,
   "outputs": [],
   "source": [],
   "metadata": {
    "collapsed": false
   }
  },
  {
   "cell_type": "code",
   "execution_count": 158,
   "outputs": [],
   "source": [
    "annotation_ids = coco.LogoDet.train.getAnnIds()\n",
    "annotations = coco.LogoDet.train.loadAnns(annotation_ids)"
   ],
   "metadata": {
    "collapsed": false
   }
  },
  {
   "cell_type": "code",
   "execution_count": null,
   "outputs": [],
   "source": [
    "annotation_ids = funcy.lmap(lambda a: int(a['category_id']), annotations)\n",
    "annotation_ids = funcy.lremove(lambda i: annotation_ids.count(i) <= 30, annotation_ids)\n",
    "annotations = funcy.lremove(lambda a: a['category_id'] not in annotation_ids, annotations)"
   ],
   "metadata": {
    "collapsed": false,
    "pycharm": {
     "is_executing": true
    }
   }
  },
  {
   "cell_type": "code",
   "execution_count": 107,
   "outputs": [],
   "source": [
    "category_ids = coco.LogoDet.train.getCatIds()\n",
    "categories = coco.LogoDet.train.loadCats(category_ids)"
   ],
   "metadata": {
    "collapsed": false
   }
  },
  {
   "cell_type": "code",
   "execution_count": null,
   "outputs": [],
   "source": [
    "categories = funcy.lremove(lambda c: c['id'] not in annotation_ids, categories)"
   ],
   "metadata": {
    "collapsed": false,
    "pycharm": {
     "is_executing": true
    }
   }
  },
  {
   "cell_type": "code",
   "execution_count": 140,
   "outputs": [],
   "source": [
    "logo_split = {}\n",
    "for ann_id in annotation_ids:\n",
    "    annotation = coco.LogoDet.train.loadAnns(ann_id)[0]\n",
    "    cat_id = annotation['category_id']\n",
    "    im_id = annotation['image_id']\n",
    "    if cat_id not in logo_split:\n",
    "        logo_split[cat_id] = []\n",
    "    logo_split[cat_id].append(im_id)"
   ],
   "metadata": {
    "collapsed": false
   }
  },
  {
   "cell_type": "code",
   "execution_count": 146,
   "outputs": [],
   "source": [
    "train = []\n",
    "test = []\n",
    "for cat_id, im_id in logo_split.items():\n",
    "    x_train, x_test = train_test_split(im_id, train_size=0.8)\n",
    "    train += list(x_train)\n",
    "    test += list(x_test)"
   ],
   "metadata": {
    "collapsed": false
   }
  },
  {
   "cell_type": "code",
   "execution_count": 154,
   "outputs": [],
   "source": [
    "image_ids = coco.LogoDet.train.getImgIds()\n",
    "images = coco.LogoDet.train.loadImgs(image_ids)"
   ],
   "metadata": {
    "collapsed": false
   }
  },
  {
   "cell_type": "code",
   "execution_count": 157,
   "outputs": [],
   "source": [
    "train_annotations = funcy.lfilter(lambda a: int(a['image_id']) in train, annotations)\n",
    "train_images = funcy.lfilter(lambda i: int(i['id']) in train, images)\n",
    "\n",
    "test_annotations = funcy.lfilter(lambda a: int(a['image_id']) in test, annotations)\n",
    "test_images = funcy.lfilter(lambda i: int(i['id']) in test, images)"
   ],
   "metadata": {
    "collapsed": false
   }
  },
  {
   "cell_type": "code",
   "execution_count": null,
   "outputs": [],
   "source": [
    "trainjson = \"./instances_train2017.json\"\n",
    "\n",
    "with open(trainjson, 'wt', encoding='UTF-8') as coco:\n",
    "    json.dump({'images': train_images, 'annotations': train_annotations, 'categories': categories}, coco, indent=2, sort_keys=True)\n",
    "\n",
    "testjson = \"./instances_test2017.json\"\n",
    "\n",
    "with open(testjson, 'wt', encoding='UTF-8') as coco:\n",
    "    json.dump({'images': test_images, 'annotations': test_annotations, 'categories': categories}, coco, indent=2, sort_keys=True)"
   ],
   "metadata": {
    "collapsed": false,
    "pycharm": {
     "is_executing": true
    }
   }
  }
 ],
 "metadata": {
  "kernelspec": {
   "display_name": "Python 3",
   "language": "python",
   "name": "python3"
  },
  "language_info": {
   "codemirror_mode": {
    "name": "ipython",
    "version": 2
   },
   "file_extension": ".py",
   "mimetype": "text/x-python",
   "name": "python",
   "nbconvert_exporter": "python",
   "pygments_lexer": "ipython2",
   "version": "2.7.6"
  }
 },
 "nbformat": 4,
 "nbformat_minor": 0
}
