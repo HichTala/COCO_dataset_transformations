{
 "cells": [
  {
   "cell_type": "code",
   "execution_count": 1,
   "metadata": {
    "collapsed": false,
    "jupyter": {
     "outputs_hidden": false
    }
   },
   "outputs": [
    {
     "name": "stderr",
     "output_type": "stream",
     "text": [
      "/home/pierre/miniconda3/envs/fsdiff/lib/python3.10/site-packages/tqdm/auto.py:22: TqdmWarning: IProgress not found. Please update jupyter and ipywidgets. See https://ipywidgets.readthedocs.io/en/stable/user_install.html\n",
      "  from .autonotebook import tqdm as notebook_tqdm\n"
     ]
    }
   ],
   "source": [
    "import os\n",
    "import pickle as pkl\n",
    "\n",
    "import matplotlib.pyplot as plt\n",
    "import numpy as np\n",
    "import torch"
   ]
  },
  {
   "cell_type": "code",
   "execution_count": 72,
   "metadata": {
    "tags": []
   },
   "outputs": [],
   "source": [
    "dataset1 = 'DOTA_val'\n",
    "dataset2 = 'DIOR_val'\n",
    "\n",
    "paths = {'IN weights': os.path.join('../inter_class_IN', dataset1 + 'x' + dataset2),\n",
    "         'COCO weights': os.path.join('../inter_class_COCO', dataset1 + 'x' + dataset2)}\n",
    "\n",
    "dataset_size1 = 16\n",
    "dataset_size2 = 20"
   ]
  },
  {
   "cell_type": "code",
   "execution_count": 78,
   "metadata": {
    "tags": []
   },
   "outputs": [
    {
     "data": {
      "image/png": "[encoded data removed]",
      "text/plain": [
       "<Figure size 1000x1500 with 2 Axes>"
      ]
     },
     "metadata": {},
     "output_type": "display_data"
    }
   ],
   "source": [
    "norm = 'none' # 'col' / 'row-soft' / 'col-soft'\n",
    "tau = 1\n",
    "fig, axs = plt.subplots(1,2, figsize=(10,15))\n",
    "for idx_path, (title, path) in enumerate(paths.items()):\n",
    "    heatmap = np.zeros((dataset_size1, dataset_size2))\n",
    "    ax = axs[idx_path]\n",
    "    ax.set_title(title)\n",
    "    for i in range(dataset_size1):\n",
    "        for j in range(dataset_size2):\n",
    "            with open(os.path.join(path, dataset1 + str(i) + 'x' + dataset2 + str(j) + '_cov.pkl'), 'rb') as f:\n",
    "                heatmap[i, j] = pkl.load(f)\n",
    "    if norm == 'col':\n",
    "        # for i in range(dataset_size1):\n",
    "        #     heatmap[i, :] = (heatmap[i, :] - heatmap[i, :].min()) / (heatmap[i, :].max() - heatmap[i, :].min())\n",
    "        heatmap = (heatmap - heatmap.min(axis=0))/ (heatmap.max(axis=0) - heatmap.min(axis=0))\n",
    "    elif norm == 'row':\n",
    "        heatmap = (heatmap - heatmap.min(axis=1)[:,None])/ (heatmap.max(axis=1) - heatmap.min(axis=1))[:,None]\n",
    "        # for j in range(dataset_size2):\n",
    "        #     heatmap[:, j] = (heatmap[:, j] - heatmap[:, j].min()) / (heatmap[:, j].max() - heatmap[:, j].min())\n",
    "    elif norm == 'col-soft':\n",
    "        heatmap = torch.tensor(heatmap)/tau\n",
    "        heatmap = torch.softmax(heatmap, dim=0)\n",
    "    elif norm == 'row-soft':  \n",
    "        heatmap = torch.tensor(heatmap)/tau\n",
    "        heatmap = torch.softmax(heatmap, dim=1)\n",
    "    \n",
    "    \n",
    "    ax.imshow(heatmap)"
   ]
  },
  {
   "cell_type": "code",
   "execution_count": 87,
   "metadata": {
    "collapsed": false,
    "jupyter": {
     "outputs_hidden": false
    }
   },
   "outputs": [],
   "source": [
    "class_probability = torch.softmax(torch.tensor(heatmap), dim=0)\n",
    "\n",
    "entropy = -class_probability * torch.log(class_probability)\n",
    "entropy = entropy.sum(dim=0).mean()"
   ]
  },
  {
   "cell_type": "code",
   "execution_count": 88,
   "metadata": {},
   "outputs": [
    {
     "data": {
      "text/plain": [
       "tensor(2.7706, dtype=torch.float64)"
      ]
     },
     "execution_count": 88,
     "metadata": {},
     "output_type": "execute_result"
    }
   ],
   "source": [
    "entropy"
   ]
  },
  {
   "cell_type": "code",
   "execution_count": 89,
   "metadata": {},
   "outputs": [
    {
     "data": {
      "text/plain": [
       "torch.Size([16, 20])"
      ]
     },
     "execution_count": 89,
     "metadata": {},
     "output_type": "execute_result"
    }
   ],
   "source": [
    "class_probability.shape"
   ]
  },
  {
   "cell_type": "code",
   "execution_count": 63,
   "metadata": {},
   "outputs": [
    {
     "data": {
      "text/plain": [
       "tensor([[0.0523, 0.0214, 0.0495,  ..., 0.0146, 0.0118, 0.0051],\n",
       "        [0.0186, 0.0136, 0.0442,  ..., 0.0218, 0.0052, 0.0485],\n",
       "        [0.0427, 0.0272, 0.0297,  ..., 0.0066, 0.0224, 0.0341],\n",
       "        ...,\n",
       "        [0.0335, 0.0502, 0.0412,  ..., 0.0385, 0.0314, 0.0319],\n",
       "        [0.0518, 0.0417, 0.0184,  ..., 0.0133, 0.0343, 0.0233],\n",
       "        [0.0383, 0.0254, 0.0232,  ..., 0.0182, 0.0091, 0.0144]])"
      ]
     },
     "execution_count": 63,
     "metadata": {},
     "output_type": "execute_result"
    }
   ],
   "source": [
    "a / a.norm(dim=1)[:,None]"
   ]
  },
  {
   "cell_type": "code",
   "execution_count": 61,
   "metadata": {},
   "outputs": [
    {
     "data": {
      "text/plain": [
       "torch.Size([138])"
      ]
     },
     "execution_count": 61,
     "metadata": {},
     "output_type": "execute_result"
    }
   ],
   "source": [
    "a.norm(dim=1).shape"
   ]
  },
  {
   "cell_type": "code",
   "execution_count": null,
   "metadata": {},
   "outputs": [],
   "source": []
  }
 ],
 "metadata": {
  "kernelspec": {
   "display_name": "Python 3 (ipykernel)",
   "language": "python",
   "name": "python3"
  },
  "language_info": {
   "codemirror_mode": {
    "name": "ipython",
    "version": 3
   },
   "file_extension": ".py",
   "mimetype": "text/x-python",
   "name": "python",
   "nbconvert_exporter": "python",
   "pygments_lexer": "ipython3",
   "version": "3.10.8"
  }
 },
 "nbformat": 4,
 "nbformat_minor": 4
}
