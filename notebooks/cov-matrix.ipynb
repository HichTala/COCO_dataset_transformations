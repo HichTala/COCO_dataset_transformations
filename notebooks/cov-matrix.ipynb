{
 "cells": [
  {
   "cell_type": "code",
   "execution_count": 59,
   "outputs": [],
   "source": [
    "import os\n",
    "import pickle\n",
    "\n",
    "import matplotlib.pyplot as plt\n",
    "import numpy as np\n",
    "import torch\n",
    "from mpl_toolkits.axes_grid1 import AxesGrid\n",
    "from tqdm import tqdm"
   ],
   "metadata": {
    "collapsed": false
   }
  },
  {
   "cell_type": "code",
   "execution_count": 60,
   "outputs": [],
   "source": [
    "def KL_divergence_pinv(mean1, mean2, covariance1, covariance2):\n",
    "    assert covariance1.shape == covariance2.shape\n",
    "    d = covariance1.shape[0]\n",
    "    mean1 = mean1.type(torch.float64)\n",
    "    mean2 = mean2.type(torch.float64)\n",
    "    covariance1 = covariance1.type(torch.float64)\n",
    "    covariance2 = covariance2.type(torch.float64)\n",
    "    cov1_bis = covariance1 + torch.eye(1024, device='cuda:0') * 1e-6\n",
    "    cov2_bis = covariance2 + torch.eye(1024, device='cuda:0') * 1e-6\n",
    "    product1 = cov2_bis @ torch.linalg.pinv(cov1_bis, atol=1e-7, hermitian=True)\n",
    "    product2 = covariance2 @ torch.linalg.pinv(covariance1, atol=1e-7, hermitian=True)\n",
    "    scal_prod = torch.t(mean2 - mean1) @ torch.linalg.pinv(covariance2, atol=1e-6, hermitian=True) @ (mean2 - mean1)\n",
    "    lndet = torch.logdet(product1)\n",
    "    trace = torch.trace(product2) + (\n",
    "            1024 - torch.linalg.matrix_rank(torch.linalg.pinv(covariance1, atol=1e-7, hermitian=True)))\n",
    "    return lndet, trace, scal_prod, 1 / 2 * (lndet - d + trace + scal_prod)"
   ],
   "metadata": {
    "collapsed": false
   }
  },
  {
   "cell_type": "code",
   "execution_count": 61,
   "outputs": [],
   "source": [
    "def KL_divergence(mean1, mean2, covariance1, covariance2):\n",
    "    assert covariance1.shape == covariance2.shape\n",
    "    d = covariance1.shape[0]\n",
    "    mean1 = mean1.type(torch.float64)\n",
    "    mean2 = mean2.type(torch.float64)\n",
    "    covariance1 = covariance1.type(torch.float64)\n",
    "    covariance2 = covariance2.type(torch.float64)\n",
    "    product = covariance2 @ torch.linalg.inv(covariance1)\n",
    "    scal_prod = torch.t(mean2 - mean1) @ torch.linalg.inv(covariance2) @ (mean2 - mean1)\n",
    "    print(torch.logdet(product))\n",
    "    print(torch.trace(product))\n",
    "    print(scal_prod)\n",
    "    return 1 / 2 * torch.logdet(product) - d / 2 + 1 / 2 * torch.trace(product) + 1 / 2 * scal_prod"
   ],
   "metadata": {
    "collapsed": false
   }
  },
  {
   "cell_type": "code",
   "execution_count": 62,
   "outputs": [],
   "source": [
    "def KL_divergence_std(mean1, mean2, variance1, variance2):\n",
    "    assert variance1.shape == variance2.shape\n",
    "    d = variance1.shape[0]\n",
    "    mean1 = mean1.type(torch.float64)\n",
    "    mean2 = mean2.type(torch.float64)\n",
    "    variance1 = variance1.type(torch.float64) * torch.eye(d, device='cuda:0')\n",
    "    variance2 = variance2.type(torch.float64) * torch.eye(d, device='cuda:0')\n",
    "    product = variance2 @ torch.linalg.inv(variance1)\n",
    "    scal_prod = torch.t(mean2 - mean1) @ torch.linalg.inv(variance2) @ (mean2 - mean1)\n",
    "    return 1 / 2 * torch.logdet(product) - d / 2 + 1 / 2 * torch.trace(product) + 1 / 2 * scal_prod"
   ],
   "metadata": {
    "collapsed": false
   }
  },
  {
   "cell_type": "code",
   "execution_count": 63,
   "outputs": [],
   "source": [
    "paths = [os.path.join('./class_barycenter', dataset) for dataset in os.listdir('./class_barycenter')]\n",
    "heatmaps = {}"
   ],
   "metadata": {
    "collapsed": false
   }
  },
  {
   "cell_type": "code",
   "execution_count": 64,
   "outputs": [
    {
     "name": "stdout",
     "output_type": "stream",
     "text": [
      "./class_barycenter/watercolor_test\n"
     ]
    },
    {
     "name": "stderr",
     "output_type": "stream",
     "text": [
      "100%|██████████| 6/6 [00:03<00:00,  1.68it/s]\n"
     ]
    },
    {
     "name": "stdout",
     "output_type": "stream",
     "text": [
      "./class_barycenter/VisDrone_test\n"
     ]
    },
    {
     "name": "stderr",
     "output_type": "stream",
     "text": [
      "100%|██████████| 10/10 [00:09<00:00,  1.03it/s]\n"
     ]
    },
    {
     "name": "stdout",
     "output_type": "stream",
     "text": [
      "./class_barycenter/watercolor_train\n"
     ]
    },
    {
     "name": "stderr",
     "output_type": "stream",
     "text": [
      "100%|██████████| 6/6 [00:03<00:00,  1.66it/s]\n"
     ]
    },
    {
     "name": "stdout",
     "output_type": "stream",
     "text": [
      "./class_barycenter/DeepFruits_val\n"
     ]
    },
    {
     "name": "stderr",
     "output_type": "stream",
     "text": [
      "100%|██████████| 5/5 [00:02<00:00,  1.94it/s]\n"
     ]
    },
    {
     "name": "stdout",
     "output_type": "stream",
     "text": [
      "./class_barycenter/Oktoberfest_test\n"
     ]
    },
    {
     "name": "stderr",
     "output_type": "stream",
     "text": [
      "100%|██████████| 15/15 [00:21<00:00,  1.40s/it]\n"
     ]
    },
    {
     "name": "stdout",
     "output_type": "stream",
     "text": [
      "./class_barycenter/clipart_train\n"
     ]
    },
    {
     "name": "stderr",
     "output_type": "stream",
     "text": [
      "100%|██████████| 20/20 [00:37<00:00,  1.88s/it]\n"
     ]
    },
    {
     "name": "stdout",
     "output_type": "stream",
     "text": [
      "./class_barycenter/SIXray_train\n"
     ]
    },
    {
     "name": "stderr",
     "output_type": "stream",
     "text": [
      "100%|██████████| 5/5 [00:02<00:00,  2.10it/s]\n"
     ]
    },
    {
     "name": "stdout",
     "output_type": "stream",
     "text": [
      "./class_barycenter/fashionpedia_train\n"
     ]
    },
    {
     "name": "stderr",
     "output_type": "stream",
     "text": [
      "100%|██████████| 46/46 [03:22<00:00,  4.41s/it]\n"
     ]
    },
    {
     "name": "stdout",
     "output_type": "stream",
     "text": [
      "./class_barycenter/DIOR_test\n"
     ]
    },
    {
     "name": "stderr",
     "output_type": "stream",
     "text": [
      "100%|██████████| 20/20 [00:38<00:00,  1.93s/it]\n"
     ]
    },
    {
     "name": "stdout",
     "output_type": "stream",
     "text": [
      "./class_barycenter/SIXray_val\n"
     ]
    },
    {
     "name": "stderr",
     "output_type": "stream",
     "text": [
      "100%|██████████| 5/5 [00:02<00:00,  2.04it/s]\n"
     ]
    },
    {
     "name": "stdout",
     "output_type": "stream",
     "text": [
      "./class_barycenter/comic_val\n"
     ]
    },
    {
     "name": "stderr",
     "output_type": "stream",
     "text": [
      "100%|██████████| 5/5 [00:02<00:00,  2.04it/s]\n"
     ]
    },
    {
     "name": "stdout",
     "output_type": "stream",
     "text": [
      "./class_barycenter/DIOR_train\n"
     ]
    },
    {
     "name": "stderr",
     "output_type": "stream",
     "text": [
      "100%|██████████| 20/20 [00:39<00:00,  1.95s/it]\n"
     ]
    },
    {
     "name": "stdout",
     "output_type": "stream",
     "text": [
      "./class_barycenter/comic_test\n"
     ]
    },
    {
     "name": "stderr",
     "output_type": "stream",
     "text": [
      "100%|██████████| 6/6 [00:03<00:00,  1.79it/s]\n"
     ]
    },
    {
     "name": "stdout",
     "output_type": "stream",
     "text": [
      "./class_barycenter/VisDrone_train\n"
     ]
    },
    {
     "name": "stderr",
     "output_type": "stream",
     "text": [
      "100%|██████████| 10/10 [00:09<00:00,  1.05it/s]\n"
     ]
    },
    {
     "name": "stdout",
     "output_type": "stream",
     "text": [
      "./class_barycenter/SIXray_test\n"
     ]
    },
    {
     "name": "stderr",
     "output_type": "stream",
     "text": [
      "100%|██████████| 5/5 [00:02<00:00,  2.01it/s]\n"
     ]
    },
    {
     "name": "stdout",
     "output_type": "stream",
     "text": [
      "./class_barycenter/CrowdHuman_val\n"
     ]
    },
    {
     "name": "stderr",
     "output_type": "stream",
     "text": [
      "100%|██████████| 1/1 [00:00<00:00, 10.38it/s]\n"
     ]
    },
    {
     "name": "stdout",
     "output_type": "stream",
     "text": [
      "./class_barycenter/COCO_train\n"
     ]
    },
    {
     "name": "stderr",
     "output_type": "stream",
     "text": [
      "100%|██████████| 80/80 [10:05<00:00,  7.57s/it]\n"
     ]
    },
    {
     "name": "stdout",
     "output_type": "stream",
     "text": [
      "./class_barycenter/CrowdHuman_test\n"
     ]
    },
    {
     "name": "stderr",
     "output_type": "stream",
     "text": [
      "100%|██████████| 1/1 [00:00<00:00,  9.43it/s]\n"
     ]
    },
    {
     "name": "stdout",
     "output_type": "stream",
     "text": [
      "./class_barycenter/fashionpedia_val\n"
     ]
    },
    {
     "name": "stderr",
     "output_type": "stream",
     "text": [
      "100%|██████████| 46/46 [03:13<00:00,  4.21s/it]\n"
     ]
    },
    {
     "name": "stdout",
     "output_type": "stream",
     "text": [
      "./class_barycenter/COCO_val\n"
     ]
    },
    {
     "name": "stderr",
     "output_type": "stream",
     "text": [
      "100%|██████████| 80/80 [09:44<00:00,  7.31s/it]\n"
     ]
    },
    {
     "name": "stdout",
     "output_type": "stream",
     "text": [
      "./class_barycenter/clipart_val\n"
     ]
    },
    {
     "name": "stderr",
     "output_type": "stream",
     "text": [
      "100%|██████████| 20/20 [00:37<00:00,  1.85s/it]\n"
     ]
    },
    {
     "name": "stdout",
     "output_type": "stream",
     "text": [
      "./class_barycenter/DOTA_val\n"
     ]
    },
    {
     "name": "stderr",
     "output_type": "stream",
     "text": [
      "100%|██████████| 16/16 [00:23<00:00,  1.48s/it]\n"
     ]
    },
    {
     "name": "stdout",
     "output_type": "stream",
     "text": [
      "./class_barycenter/clipart_test\n"
     ]
    },
    {
     "name": "stderr",
     "output_type": "stream",
     "text": [
      "100%|██████████| 20/20 [00:37<00:00,  1.88s/it]\n"
     ]
    },
    {
     "name": "stdout",
     "output_type": "stream",
     "text": [
      "./class_barycenter/KITTI_val\n"
     ]
    },
    {
     "name": "stderr",
     "output_type": "stream",
     "text": [
      "100%|██████████| 4/4 [00:01<00:00,  2.67it/s]\n"
     ]
    },
    {
     "name": "stdout",
     "output_type": "stream",
     "text": [
      "./class_barycenter/Oktoberfest_train\n"
     ]
    },
    {
     "name": "stderr",
     "output_type": "stream",
     "text": [
      "100%|██████████| 15/15 [00:21<00:00,  1.41s/it]\n"
     ]
    },
    {
     "name": "stdout",
     "output_type": "stream",
     "text": [
      "./class_barycenter/VisDrone_val\n"
     ]
    },
    {
     "name": "stderr",
     "output_type": "stream",
     "text": [
      "100%|██████████| 10/10 [00:09<00:00,  1.05it/s]\n"
     ]
    },
    {
     "name": "stdout",
     "output_type": "stream",
     "text": [
      "./class_barycenter/watercolor_val\n"
     ]
    },
    {
     "name": "stderr",
     "output_type": "stream",
     "text": [
      "100%|██████████| 6/6 [00:03<00:00,  1.76it/s]\n"
     ]
    },
    {
     "name": "stdout",
     "output_type": "stream",
     "text": [
      "./class_barycenter/DOTA_test\n"
     ]
    },
    {
     "name": "stderr",
     "output_type": "stream",
     "text": [
      "100%|██████████| 16/16 [00:23<00:00,  1.48s/it]\n"
     ]
    },
    {
     "name": "stdout",
     "output_type": "stream",
     "text": [
      "./class_barycenter/KITTI_test\n"
     ]
    },
    {
     "name": "stderr",
     "output_type": "stream",
     "text": [
      "100%|██████████| 4/4 [00:01<00:00,  2.70it/s]\n"
     ]
    },
    {
     "name": "stdout",
     "output_type": "stream",
     "text": [
      "./class_barycenter/Oktoberfest_val\n"
     ]
    },
    {
     "name": "stderr",
     "output_type": "stream",
     "text": [
      "100%|██████████| 15/15 [00:20<00:00,  1.36s/it]\n"
     ]
    },
    {
     "name": "stdout",
     "output_type": "stream",
     "text": [
      "./class_barycenter/comic_train\n"
     ]
    },
    {
     "name": "stderr",
     "output_type": "stream",
     "text": [
      "100%|██████████| 6/6 [00:03<00:00,  1.82it/s]\n"
     ]
    },
    {
     "name": "stdout",
     "output_type": "stream",
     "text": [
      "./class_barycenter/DeepFruits_train\n"
     ]
    },
    {
     "name": "stderr",
     "output_type": "stream",
     "text": [
      "100%|██████████| 7/7 [00:04<00:00,  1.57it/s]\n"
     ]
    },
    {
     "name": "stdout",
     "output_type": "stream",
     "text": [
      "./class_barycenter/DIOR_val\n"
     ]
    },
    {
     "name": "stderr",
     "output_type": "stream",
     "text": [
      "100%|██████████| 20/20 [00:36<00:00,  1.84s/it]\n"
     ]
    },
    {
     "name": "stdout",
     "output_type": "stream",
     "text": [
      "./class_barycenter/fashionpedia_test\n"
     ]
    },
    {
     "name": "stderr",
     "output_type": "stream",
     "text": [
      "100%|██████████| 46/46 [03:15<00:00,  4.26s/it]\n"
     ]
    },
    {
     "name": "stdout",
     "output_type": "stream",
     "text": [
      "./class_barycenter/DeepFruits_test\n"
     ]
    },
    {
     "name": "stderr",
     "output_type": "stream",
     "text": [
      "100%|██████████| 7/7 [00:04<00:00,  1.55it/s]\n"
     ]
    },
    {
     "name": "stdout",
     "output_type": "stream",
     "text": [
      "./class_barycenter/CrowdHuman_train\n"
     ]
    },
    {
     "name": "stderr",
     "output_type": "stream",
     "text": [
      "100%|██████████| 1/1 [00:00<00:00, 10.32it/s]\n"
     ]
    },
    {
     "name": "stdout",
     "output_type": "stream",
     "text": [
      "./class_barycenter/KITTI_train\n"
     ]
    },
    {
     "name": "stderr",
     "output_type": "stream",
     "text": [
      "100%|██████████| 4/4 [00:01<00:00,  2.72it/s]\n"
     ]
    },
    {
     "name": "stdout",
     "output_type": "stream",
     "text": [
      "./class_barycenter/DOTA_train\n"
     ]
    },
    {
     "name": "stderr",
     "output_type": "stream",
     "text": [
      "100%|██████████| 16/16 [00:24<00:00,  1.51s/it]\n"
     ]
    }
   ],
   "source": [
    "for path in paths:\n",
    "    print(path)\n",
    "    mean = [x for x in sorted(os.listdir(path),\n",
    "                              key=lambda item: (int(item.partition('_')[0])\n",
    "                                                if item[0].isdigit() else float('inf'), item))\n",
    "            if x.split('_')[1] == 'mean.pkl']\n",
    "\n",
    "    cov = [x for x in sorted(os.listdir(path),\n",
    "                             key=lambda item: (int(item.partition('_')[0])\n",
    "                                               if item[0].isdigit() else float('inf'), item))\n",
    "           if x.split('_')[1] == 'cov.pkl']\n",
    "\n",
    "    n = len(mean)\n",
    "    heatmap = np.zeros((n, n))\n",
    "\n",
    "    for i in tqdm(range(n)):\n",
    "        mean1_path = os.path.join(path, mean[i])\n",
    "        cov1_path = os.path.join(path, cov[i])\n",
    "        with open(mean1_path, 'rb') as f:\n",
    "            mean1 = pickle.load(f)\n",
    "        with open(cov1_path, 'rb') as f:\n",
    "            covariance1 = pickle.load(f)\n",
    "        for j in range(n):\n",
    "            mean2_path = os.path.join(path, mean[j])\n",
    "            cov2_path = os.path.join(path, cov[j])\n",
    "            with open(mean2_path, 'rb') as f:\n",
    "                mean2 = pickle.load(f)\n",
    "            with open(cov2_path, 'rb') as f:\n",
    "                covariance2 = pickle.load(f)\n",
    "\n",
    "            # heatmap1[i, j], heatmap2[i, j], heatmap3[i, j], heatmap[i, j] = KL_divergence_pinv(mean1, mean2, covariance1, covariance2)\n",
    "            try:\n",
    "                heatmap[i, j] = KL_divergence_std(mean1, mean2, covariance1, covariance2)\n",
    "            except torch._C._LinAlgError:\n",
    "                heatmap[i, j] = np.nan\n",
    "    heatmaps[path.split('/')[-1]] = heatmap"
   ],
   "metadata": {
    "collapsed": false
   }
  },
  {
   "cell_type": "code",
   "execution_count": 50,
   "outputs": [],
   "source": [
    "plt.imshow(heatmaps[0])"
   ],
   "metadata": {
    "collapsed": false
   }
  },
  {
   "cell_type": "code",
   "execution_count": 66,
   "outputs": [
    {
     "data": {
      "text/plain": "dict_keys(['watercolor_test', 'VisDrone_test', 'watercolor_train', 'DeepFruits_val', 'Oktoberfest_test', 'clipart_train', 'SIXray_train', 'fashionpedia_train', 'DIOR_test', 'SIXray_val', 'comic_val', 'DIOR_train', 'comic_test', 'VisDrone_train', 'SIXray_test', 'CrowdHuman_val', 'COCO_train', 'CrowdHuman_test', 'fashionpedia_val', 'COCO_val', 'clipart_val', 'DOTA_val', 'clipart_test', 'KITTI_val', 'Oktoberfest_train', 'VisDrone_val', 'watercolor_val', 'DOTA_test', 'KITTI_test', 'Oktoberfest_val', 'comic_train', 'DeepFruits_train', 'DIOR_val', 'fashionpedia_test', 'DeepFruits_test', 'CrowdHuman_train', 'KITTI_train', 'DOTA_train'])"
     },
     "execution_count": 66,
     "metadata": {},
     "output_type": "execute_result"
    }
   ],
   "source": [],
   "metadata": {
    "collapsed": false
   }
  },
  {
   "cell_type": "code",
   "execution_count": 85,
   "outputs": [],
   "source": [
    "% matplotlib qt\n",
    "fig = plt.figure()\n",
    "\n",
    "grid = AxesGrid(fig, 111,\n",
    "                nrows_ncols=(7, 6),\n",
    "                axes_pad=0.5,\n",
    "                share_all=True,\n",
    "                cbar_location=\"right\",\n",
    "                cbar_mode=\"single\",\n",
    "                )\n",
    "keys = sorted(list(heatmaps.keys()))[2:] + ['COCO_train', 'COCO_val']\n",
    "\n",
    "for dataset, ax in zip(keys, grid):\n",
    "    ax.set_title(dataset)\n",
    "    im = ax.imshow(heatmaps[dataset])\n",
    "\n",
    "grid.cbar_axes[0].colorbar(im)\n",
    "\n",
    "for cax in grid.cbar_axes:\n",
    "    cax.toggle_label(True)\n",
    "\n",
    "plt.show()\n"
   ],
   "metadata": {
    "collapsed": false
   }
  },
  {
   "cell_type": "code",
   "execution_count": null,
   "outputs": [],
   "source": [],
   "metadata": {
    "collapsed": false
   }
  },
  {
   "cell_type": "code",
   "execution_count": 361,
   "outputs": [],
   "source": [
    "n = len(mean)\n",
    "heatmap = np.zeros((n, n))\n",
    "heatmap1 = np.zeros((n, n))\n",
    "heatmap2 = np.zeros((n, n))\n",
    "heatmap3 = np.zeros((n, n))\n"
   ],
   "metadata": {
    "collapsed": false
   }
  },
  {
   "cell_type": "code",
   "execution_count": 362,
   "outputs": [
    {
     "name": "stderr",
     "output_type": "stream",
     "text": [
      "100%|██████████| 80/80 [09:53<00:00,  7.42s/it]\n"
     ]
    }
   ],
   "source": [
    "for i in tqdm(range(n)):\n",
    "    mean1_path = os.path.join(path, mean[i])\n",
    "    cov1_path = os.path.join(path, cov[i])\n",
    "    with open(mean1_path, 'rb') as f:\n",
    "        mean1 = pickle.load(f)\n",
    "    with open(cov1_path, 'rb') as f:\n",
    "        covariance1 = pickle.load(f)\n",
    "    for j in range(n):\n",
    "        mean2_path = os.path.join(path, mean[j])\n",
    "        cov2_path = os.path.join(path, cov[j])\n",
    "        with open(mean2_path, 'rb') as f:\n",
    "            mean2 = pickle.load(f)\n",
    "        with open(cov2_path, 'rb') as f:\n",
    "            covariance2 = pickle.load(f)\n",
    "\n",
    "        # heatmap1[i, j], heatmap2[i, j], heatmap3[i, j], heatmap[i, j] = KL_divergence_pinv(mean1, mean2, covariance1, covariance2)\n",
    "        heatmap[i, j] = KL_divergence_std(mean1, mean2, covariance1, covariance2)"
   ],
   "metadata": {
    "collapsed": false
   }
  },
  {
   "cell_type": "code",
   "execution_count": 84,
   "outputs": [
    {
     "name": "stderr",
     "output_type": "stream",
     "text": [
      "UsageError: Line magic function `%` not found.\n"
     ]
    }
   ],
   "source": [
    "% matplotlib qt\n",
    "\n",
    "plt.imshow(heatmap)"
   ],
   "metadata": {
    "collapsed": false
   }
  },
  {
   "cell_type": "code",
   "execution_count": 312,
   "outputs": [
    {
     "data": {
      "text/plain": "<matplotlib.image.AxesImage at 0x7f098a074970>"
     },
     "execution_count": 312,
     "metadata": {},
     "output_type": "execute_result"
    }
   ],
   "source": [
    "plt.imshow(heatmap1)"
   ],
   "metadata": {
    "collapsed": false
   }
  },
  {
   "cell_type": "code",
   "execution_count": 313,
   "outputs": [
    {
     "data": {
      "text/plain": "<matplotlib.image.AxesImage at 0x7f098a0773d0>"
     },
     "execution_count": 313,
     "metadata": {},
     "output_type": "execute_result"
    }
   ],
   "source": [
    "plt.imshow(heatmap2)"
   ],
   "metadata": {
    "collapsed": false
   }
  },
  {
   "cell_type": "code",
   "execution_count": 314,
   "outputs": [
    {
     "data": {
      "text/plain": "<matplotlib.image.AxesImage at 0x7f09d0152380>"
     },
     "execution_count": 314,
     "metadata": {},
     "output_type": "execute_result"
    }
   ],
   "source": [
    "plt.imshow(heatmap3)"
   ],
   "metadata": {
    "collapsed": false
   }
  },
  {
   "cell_type": "code",
   "execution_count": 48,
   "outputs": [],
   "source": [
    "path = './class_barycenter/COCO_train'\n",
    "mean = [x for x in sorted(os.listdir(path),\n",
    "                          key=lambda item: (int(item.partition('_')[0])\n",
    "                                            if item[0].isdigit() else float('inf'), item))\n",
    "        if x.split('_')[1] == 'mean.pkl']\n",
    "\n",
    "cov = [x for x in sorted(os.listdir(path),\n",
    "                         key=lambda item: (int(item.partition('_')[0])\n",
    "                                           if item[0].isdigit() else float('inf'), item))\n",
    "       if x.split('_')[1] == 'cov.pkl']"
   ],
   "metadata": {
    "collapsed": false
   }
  },
  {
   "cell_type": "code",
   "execution_count": 49,
   "outputs": [],
   "source": [
    "mean1_path = os.path.join(path, mean[70])\n",
    "cov1_path = os.path.join(path, cov[70])\n",
    "with open(mean1_path, 'rb') as f:\n",
    "    mean1 = pickle.load(f)\n",
    "with open(cov1_path, 'rb') as f:\n",
    "    covariance1 = pickle.load(f)\n",
    "\n",
    "mean2_path = os.path.join(path, mean[0])\n",
    "cov2_path = os.path.join(path, cov[0])\n",
    "with open(mean2_path, 'rb') as f:\n",
    "    mean2 = pickle.load(f)\n",
    "with open(cov2_path, 'rb') as f:\n",
    "    covariance2 = pickle.load(f)"
   ],
   "metadata": {
    "collapsed": false
   }
  },
  {
   "cell_type": "code",
   "execution_count": 50,
   "outputs": [],
   "source": [
    "mean1 = mean1.type(torch.float64)\n",
    "mean2 = mean2.type(torch.float64)\n",
    "covariance1 = covariance1.type(torch.float64)\n",
    "covariance2 = covariance2.type(torch.float64)"
   ],
   "metadata": {
    "collapsed": false
   }
  },
  {
   "cell_type": "code",
   "execution_count": 51,
   "outputs": [
    {
     "data": {
      "text/plain": "48"
     },
     "execution_count": 51,
     "metadata": {},
     "output_type": "execute_result"
    }
   ],
   "source": [
    "np.isclose(np.linalg.eig(covariance1.cpu().numpy())[0], np.zeros(1024)).sum()"
   ],
   "metadata": {
    "collapsed": false
   }
  },
  {
   "cell_type": "code",
   "execution_count": 355,
   "outputs": [
    {
     "name": "stdout",
     "output_type": "stream",
     "text": [
      "tensor(1177.1431, device='cuda:0', dtype=torch.float64)\n",
      "tensor(9070.5505, device='cuda:0', dtype=torch.float64)\n",
      "tensor(144.7316, device='cuda:0', dtype=torch.float64)\n"
     ]
    },
    {
     "data": {
      "text/plain": "tensor(4684.2126, device='cuda:0', dtype=torch.float64)"
     },
     "execution_count": 355,
     "metadata": {},
     "output_type": "execute_result"
    }
   ],
   "source": [
    "KL_divergence(mean1, mean2, covariance1, covariance2)"
   ],
   "metadata": {
    "collapsed": false
   }
  },
  {
   "cell_type": "code",
   "execution_count": 333,
   "outputs": [
    {
     "data": {
      "text/plain": "(tensor(-6.2382e-09, device='cuda:0', dtype=torch.float64),\n tensor(347.0000, device='cuda:0', dtype=torch.float64),\n tensor(0., device='cuda:0', dtype=torch.float64),\n tensor(-338.5000, device='cuda:0', dtype=torch.float64))"
     },
     "execution_count": 333,
     "metadata": {},
     "output_type": "execute_result"
    }
   ],
   "source": [
    "KL_divergence_pinv(mean1, mean2, covariance1, covariance2)"
   ],
   "metadata": {
    "collapsed": false
   }
  },
  {
   "cell_type": "code",
   "execution_count": 356,
   "outputs": [
    {
     "data": {
      "text/plain": "tensor(1837.1026, device='cuda:0', dtype=torch.float64)"
     },
     "execution_count": 356,
     "metadata": {},
     "output_type": "execute_result"
    }
   ],
   "source": [
    "KL_divergence_std(mean1, mean2, covariance1, covariance2)"
   ],
   "metadata": {
    "collapsed": false
   }
  },
  {
   "cell_type": "code",
   "execution_count": 337,
   "outputs": [],
   "source": [
    "product2 = covariance2 @ torch.linalg.pinv(covariance1, atol=1e-7, hermitian=True)\n",
    "trace = torch.trace(product2) + (\n",
    "        1024 - torch.linalg.matrix_rank(torch.linalg.pinv(covariance1, atol=1e-7, hermitian=True)))"
   ],
   "metadata": {
    "collapsed": false
   }
  },
  {
   "cell_type": "code",
   "execution_count": 339,
   "outputs": [
    {
     "data": {
      "text/plain": "tensor(1024.0000, device='cuda:0', dtype=torch.float64)"
     },
     "execution_count": 338,
     "metadata": {},
     "output_type": "execute_result"
    },
    {
     "data": {
      "text/plain": "tensor(1024.0000, device='cuda:0', dtype=torch.float64)"
     },
     "execution_count": 339,
     "metadata": {},
     "output_type": "execute_result"
    }
   ],
   "source": [
    "trace"
   ],
   "metadata": {
    "collapsed": false
   }
  },
  {
   "cell_type": "code",
   "execution_count": 116,
   "outputs": [
    {
     "name": "stdout",
     "output_type": "stream",
     "text": [
      "COCO_train\n",
      "0 832\n",
      "1 843\n",
      "2 795\n"
     ]
    },
    {
     "ename": "KeyboardInterrupt",
     "evalue": "",
     "output_type": "error",
     "traceback": [
      "\u001B[0;31m---------------------------------------------------------------------------\u001B[0m",
      "\u001B[0;31mKeyboardInterrupt\u001B[0m                         Traceback (most recent call last)",
      "Cell \u001B[0;32mIn[116], line 22\u001B[0m\n\u001B[1;32m     17\u001B[0m variance1 \u001B[38;5;241m=\u001B[39m np\u001B[38;5;241m.\u001B[39marray([covariance1[i, i]\u001B[38;5;241m.\u001B[39mcpu()\u001B[38;5;241m.\u001B[39mnumpy() \u001B[38;5;28;01mfor\u001B[39;00m i \u001B[38;5;129;01min\u001B[39;00m \u001B[38;5;28mrange\u001B[39m(\u001B[38;5;28mlen\u001B[39m(covariance1))])\n\u001B[1;32m     19\u001B[0m \u001B[38;5;28;01mtry\u001B[39;00m:\n\u001B[1;32m     20\u001B[0m     \u001B[38;5;28mprint\u001B[39m(\n\u001B[1;32m     21\u001B[0m         i,\n\u001B[0;32m---> 22\u001B[0m         (\u001B[43mnp\u001B[49m\u001B[38;5;241;43m.\u001B[39;49m\u001B[43mlinalg\u001B[49m\u001B[38;5;241;43m.\u001B[39;49m\u001B[43meig\u001B[49m\u001B[43m(\u001B[49m\u001B[43mcovariance1\u001B[49m\u001B[38;5;241;43m.\u001B[39;49m\u001B[43mcpu\u001B[49m\u001B[43m(\u001B[49m\u001B[43m)\u001B[49m\u001B[38;5;241;43m.\u001B[39;49m\u001B[43mnumpy\u001B[49m\u001B[43m(\u001B[49m\u001B[43m)\u001B[49m\u001B[43m)\u001B[49m[\u001B[38;5;241m0\u001B[39m] \u001B[38;5;241m<\u001B[39m\u001B[38;5;241m=\u001B[39m np\u001B[38;5;241m.\u001B[39mlinalg\u001B[38;5;241m.\u001B[39meig(covariance1\u001B[38;5;241m.\u001B[39mcpu()\u001B[38;5;241m.\u001B[39mnumpy())[\u001B[38;5;241m0\u001B[39m]\u001B[38;5;241m.\u001B[39mmax() \u001B[38;5;241m*\u001B[39m \u001B[38;5;241m0.001\u001B[39m)\u001B[38;5;241m.\u001B[39msum()\n\u001B[1;32m     23\u001B[0m     )\n\u001B[1;32m     24\u001B[0m \u001B[38;5;28;01mexcept\u001B[39;00m np\u001B[38;5;241m.\u001B[39mlinalg\u001B[38;5;241m.\u001B[39mLinAlgError:\n\u001B[1;32m     25\u001B[0m     \u001B[38;5;28mprint\u001B[39m(i)\n",
      "File \u001B[0;32m<__array_function__ internals>:180\u001B[0m, in \u001B[0;36meig\u001B[0;34m(*args, **kwargs)\u001B[0m\n",
      "File \u001B[0;32m~/miniconda3/envs/detr/lib/python3.10/site-packages/numpy/linalg/linalg.py:1318\u001B[0m, in \u001B[0;36meig\u001B[0;34m(a)\u001B[0m\n\u001B[1;32m   1315\u001B[0m extobj \u001B[38;5;241m=\u001B[39m get_linalg_error_extobj(\n\u001B[1;32m   1316\u001B[0m     _raise_linalgerror_eigenvalues_nonconvergence)\n\u001B[1;32m   1317\u001B[0m signature \u001B[38;5;241m=\u001B[39m \u001B[38;5;124m'\u001B[39m\u001B[38;5;124mD->DD\u001B[39m\u001B[38;5;124m'\u001B[39m \u001B[38;5;28;01mif\u001B[39;00m isComplexType(t) \u001B[38;5;28;01melse\u001B[39;00m \u001B[38;5;124m'\u001B[39m\u001B[38;5;124md->DD\u001B[39m\u001B[38;5;124m'\u001B[39m\n\u001B[0;32m-> 1318\u001B[0m w, vt \u001B[38;5;241m=\u001B[39m \u001B[43m_umath_linalg\u001B[49m\u001B[38;5;241;43m.\u001B[39;49m\u001B[43meig\u001B[49m\u001B[43m(\u001B[49m\u001B[43ma\u001B[49m\u001B[43m,\u001B[49m\u001B[43m \u001B[49m\u001B[43msignature\u001B[49m\u001B[38;5;241;43m=\u001B[39;49m\u001B[43msignature\u001B[49m\u001B[43m,\u001B[49m\u001B[43m \u001B[49m\u001B[43mextobj\u001B[49m\u001B[38;5;241;43m=\u001B[39;49m\u001B[43mextobj\u001B[49m\u001B[43m)\u001B[49m\n\u001B[1;32m   1320\u001B[0m \u001B[38;5;28;01mif\u001B[39;00m \u001B[38;5;129;01mnot\u001B[39;00m isComplexType(t) \u001B[38;5;129;01mand\u001B[39;00m \u001B[38;5;28mall\u001B[39m(w\u001B[38;5;241m.\u001B[39mimag \u001B[38;5;241m==\u001B[39m \u001B[38;5;241m0.0\u001B[39m):\n\u001B[1;32m   1321\u001B[0m     w \u001B[38;5;241m=\u001B[39m w\u001B[38;5;241m.\u001B[39mreal\n",
      "\u001B[0;31mKeyboardInterrupt\u001B[0m: "
     ]
    }
   ],
   "source": [
    "paths = sorted(os.path.join('./class_barycenter', dataset) for dataset in os.listdir('./class_barycenter'))\n",
    "for path in paths:\n",
    "    print(path.split('/')[-1])\n",
    "\n",
    "    cov = [x for x in sorted(os.listdir(path),\n",
    "                             key=lambda item: (int(item.partition('_')[0])\n",
    "                                               if item[0].isdigit() else float('inf'), item))\n",
    "           if x.split('_')[1] == 'cov.pkl']\n",
    "\n",
    "    n = len(cov)\n",
    "\n",
    "    for i in range(n):\n",
    "        cov1_path = os.path.join(path, cov[i])\n",
    "        with open(cov1_path, 'rb') as f:\n",
    "            covariance1 = pickle.load(f)\n",
    "\n",
    "        variance1 = np.array([covariance1[i, i].cpu().numpy() for i in range(len(covariance1))])\n",
    "\n",
    "        try:\n",
    "            print(\n",
    "                i,\n",
    "                (np.linalg.eig(covariance1.cpu().numpy())[0] <= np.linalg.eig(covariance1.cpu().numpy())[\n",
    "                    0].max() * 0.001).sum()\n",
    "            )\n",
    "        except np.linalg.LinAlgError:\n",
    "            print(i)\n"
   ],
   "metadata": {
    "collapsed": false
   }
  },
  {
   "cell_type": "code",
   "execution_count": 111,
   "outputs": [
    {
     "data": {
      "text/plain": "15"
     },
     "execution_count": 111,
     "metadata": {},
     "output_type": "execute_result"
    }
   ],
   "source": [
    "(np.linalg.eig(covariance1.cpu().numpy())[0] > 5).sum()"
   ],
   "metadata": {
    "collapsed": false
   }
  },
  {
   "cell_type": "code",
   "execution_count": 22,
   "outputs": [],
   "source": [
    "with open(cov1_path, 'rb') as f:\n",
    "    covariance1 = pickle.load(f)"
   ],
   "metadata": {
    "collapsed": false
   }
  },
  {
   "cell_type": "code",
   "execution_count": 88,
   "outputs": [],
   "source": [
    "with open('./dataset_barycenter/COCO_train_std.pkl', 'rb') as f:\n",
    "    cov = pickle.load(f)"
   ],
   "metadata": {
    "collapsed": false
   }
  },
  {
   "cell_type": "code",
   "execution_count": 89,
   "outputs": [
    {
     "data": {
      "text/plain": "torch.Size([1024, 1024])"
     },
     "execution_count": 89,
     "metadata": {},
     "output_type": "execute_result"
    }
   ],
   "source": [
    "cov.shape"
   ],
   "metadata": {
    "collapsed": false
   }
  },
  {
   "cell_type": "code",
   "execution_count": 95,
   "outputs": [
    {
     "data": {
      "text/plain": "0"
     },
     "execution_count": 95,
     "metadata": {},
     "output_type": "execute_result"
    }
   ],
   "source": [
    "os.listdir('./dataset_barycenter')\n",
    "\n",
    "np.isclose(np.linalg.eig(cov.cpu().numpy())[0], np.zeros(cov.shape[0]), atol=1e-6).sum()"
   ],
   "metadata": {
    "collapsed": false
   }
  },
  {
   "cell_type": "code",
   "execution_count": 117,
   "outputs": [
    {
     "name": "stdout",
     "output_type": "stream",
     "text": [
      "COCO_train_std.pkl 899\n",
      "COCO_val_std.pkl 900\n",
      "CrowdHuman_test_std.pkl 936\n",
      "CrowdHuman_train_std.pkl 939\n",
      "CrowdHuman_val_std.pkl 940\n",
      "DIOR_test_std.pkl 888\n",
      "DIOR_train_std.pkl 885\n",
      "DIOR_val_std.pkl 888\n",
      "DOTA_test_std.pkl 886\n",
      "DOTA_train_std.pkl 877\n",
      "DOTA_val_std.pkl 878\n",
      "DeepFruits_test_std.pkl 956\n",
      "DeepFruits_train_std.pkl 931\n",
      "DeepFruits_val_std.pkl 1006\n",
      "KITTI_test_std.pkl 946\n",
      "KITTI_train_std.pkl 942\n",
      "KITTI_val_std.pkl 935\n",
      "Oktoberfest_test_std.pkl 965\n",
      "Oktoberfest_train_std.pkl 948\n",
      "Oktoberfest_val_std.pkl 954\n",
      "SIXray_test_std.pkl 950\n",
      "SIXray_train_std.pkl 950\n",
      "SIXray_val_std.pkl 953\n",
      "VisDrone_test_std.pkl 930\n",
      "VisDrone_train_std.pkl 915\n",
      "VisDrone_val_std.pkl 916\n",
      "clipart_test_std.pkl 877\n",
      "clipart_train_std.pkl 869\n",
      "clipart_val_std.pkl 926\n",
      "comic_test_std.pkl 931\n",
      "comic_train_std.pkl 885\n",
      "comic_val_std.pkl 933\n",
      "fashionpedia_test_std.pkl 885\n",
      "fashionpedia_train_std.pkl 886\n",
      "fashionpedia_val_std.pkl 892\n",
      "watercolor_test_std.pkl 929\n",
      "watercolor_train_std.pkl 885\n",
      "watercolor_val_std.pkl 933\n"
     ]
    }
   ],
   "source": [
    "path = './dataset_barycenter'\n",
    "\n",
    "cov = [x for x in sorted(os.listdir(path)) if x.split('_')[-1] == 'std.pkl']\n",
    "\n",
    "for dataset in cov:\n",
    "    cov_path = os.path.join(path, dataset)\n",
    "    with open(cov_path, 'rb') as f:\n",
    "        covariance = pickle.load(f)\n",
    "\n",
    "    variance = np.array([covariance[i, i].cpu().numpy() for i in range(len(covariance))])\n",
    "\n",
    "    print(\n",
    "        dataset,\n",
    "        (np.linalg.eig(covariance.cpu().numpy())[0] <= np.linalg.eig(covariance.cpu().numpy())[0].max() * 0.001).sum()\n",
    "    )\n"
   ],
   "metadata": {
    "collapsed": false
   }
  },
  {
   "cell_type": "code",
   "execution_count": 42,
   "outputs": [],
   "source": [
    "prop_eig0 = [773.45, 703.25, 808.60,\n",
    "             776.25, 716.19, 833.06,\n",
    "             968.71, 872.29, 1002.20,\n",
    "             888.60, 834.20, 887.00,\n",
    "             970.85, 976.40, 1007.89]\n",
    "             # 549.80, 549.80, 684.40]\n",
    "\n",
    "perf_5shot = [30.42, 30.42, 30.42,\n",
    "              14.45, 14.45, 14.45,\n",
    "              55.58, 55.58, 55.58,\n",
    "              13.25, 13.25, 13.25,\n",
    "              5.26, 5.26, 5.26]\n",
    "              # 5.74, 5.74, 5.74]\n",
    "\n",
    "labels = ['DIOR_test', 'DIOR_train', 'DIOR_val',\n",
    "          'DOTA_test', 'DOTA_train', 'DOTA_val',\n",
    "          'DeepFruits_test', 'DeepFruits_train', 'DeepFruits_val',\n",
    "          'SIXray_test', 'SIXray_train', 'SIXray_val',\n",
    "          'clipart_test', 'clipart_train', 'clipart_val']\n",
    "          # 'VisDrone_test', 'VisDrone_train', 'VisDrone_val']"
   ],
   "metadata": {
    "collapsed": false
   }
  },
  {
   "cell_type": "code",
   "execution_count": 28,
   "outputs": [],
   "source": [
    "colors_dict = {'COCO': '#9D6FD7',\n",
    "               'CrowdHuman': '#E6C8C7',\n",
    "               'DIOR': '#003A37',\n",
    "               'DOTA': '#8AFF66',\n",
    "               'DeepFruits': '#284D26',\n",
    "               'KITTI': '#F65794',\n",
    "               'Oktoberfest': '#804E96',\n",
    "               'SIXray': '#C05E5A',\n",
    "               'VisDrone': '#458BBC',\n",
    "               'clipart': '#C83F0F',\n",
    "               'comic': '#3C7503',\n",
    "               'fashionpedia': '#3B9F21',\n",
    "               'watercolor': '#E68C70'}"
   ],
   "metadata": {
    "collapsed": false
   }
  },
  {
   "cell_type": "code",
   "execution_count": 43,
   "outputs": [
    {
     "data": {
      "text/plain": "<Figure size 640x480 with 1 Axes>",
      "image/png": "[encoded data removed]"
     },
     "metadata": {},
     "output_type": "display_data"
    }
   ],
   "source": [
    "for prop, perf, label in zip(prop_eig0, perf_5shot, labels):\n",
    "    if label.split('_')[-1] == 'test':\n",
    "        plt.scatter(prop, perf, color=colors_dict[label.split('_')[0]])\n",
    "        plt.text(prop, perf + 1, label.split('_')[0])\n",
    "plt.show()"
   ],
   "metadata": {
    "collapsed": false
   }
  },
  {
   "cell_type": "code",
   "execution_count": 48,
   "outputs": [],
   "source": [
    "prop_eig0 = [970.85, 976.40, 1007.89,\n",
    "             856.00, 860.00, 862.00,\n",
    "             968.71, 872.29, 1002.20,\n",
    "             891.89, 872.17, 949.87,\n",
    "             855.00, 836.50, 856.75,\n",
    "             1009.33, 925.73, 992.07,\n",
    "             888.60, 834.20, 887.00]\n",
    "             # 549.80, 549.80, 684.40]\n",
    "\n",
    "perf_5shot = [49.3, 49.3, 49.3,\n",
    "              51.5, 51.5, 51.5,\n",
    "              60.7, 60.7, 60.7,\n",
    "              21.3, 21.3, 21.3,\n",
    "              45.3, 45.3, 45.3,\n",
    "              81.6, 81.6, 81.6,\n",
    "              23.9, 23.9, 23.9]\n",
    "              # 14.2, 14.2, 14.2]\n",
    "\n",
    "labels = ['clipart_test', 'clipart_train', 'clipart_val',\n",
    "          'CrowdHuman_test', 'CrowdHuman_train', 'CrowdHuman_val',\n",
    "          'DeepFruits_test', 'DeepFruits_train', 'DeepFruits_val',\n",
    "          'fashionpedia_test', 'fashionpedia_train', 'fashionpedia_val',\n",
    "          'KITTI_test', 'KITTI_train', 'KITTI',\n",
    "          'Oktoberfest_test', 'Oktoberfest_train', 'Oktoberfest_val',\n",
    "          'SIXray_test', 'SIXray_train', 'SIXray_val']\n",
    "          # 'VisDrone_test', 'VisDrone_train', 'VisDrone_val']"
   ],
   "metadata": {
    "collapsed": false
   }
  },
  {
   "cell_type": "code",
   "execution_count": 49,
   "outputs": [
    {
     "data": {
      "text/plain": "<Figure size 640x480 with 1 Axes>",
      "image/png": "[encoded data removed]"
     },
     "metadata": {},
     "output_type": "display_data"
    }
   ],
   "source": [
    "for prop, perf, label in zip(prop_eig0, perf_5shot, labels):\n",
    "    if label.split('_')[-1] == 'test':\n",
    "        plt.scatter(prop, perf, color=colors_dict[label.split('_')[0]])\n",
    "        plt.text(prop, perf + 1, label.split('_')[0])\n",
    "plt.show()"
   ],
   "metadata": {
    "collapsed": false
   }
  }
 ],
 "metadata": {
  "kernelspec": {
   "display_name": "Python 3",
   "language": "python",
   "name": "python3"
  },
  "language_info": {
   "codemirror_mode": {
    "name": "ipython",
    "version": 2
   },
   "file_extension": ".py",
   "mimetype": "text/x-python",
   "name": "python",
   "nbconvert_exporter": "python",
   "pygments_lexer": "ipython2",
   "version": "2.7.6"
  }
 },
 "nbformat": 4,
 "nbformat_minor": 0
}
