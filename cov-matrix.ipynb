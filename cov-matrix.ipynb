{
 "cells": [
  {
   "cell_type": "code",
   "execution_count": 4,
   "outputs": [],
   "source": [
    "import pickle\n",
    "import torch"
   ],
   "metadata": {
    "collapsed": false,
    "pycharm": {
     "name": "#%%\n"
    }
   }
  },
  {
   "cell_type": "code",
   "execution_count": 94,
   "outputs": [],
   "source": [
    "cov_path = \"./class_barycenter/COCO_train/1_cov.pkl\"\n",
    "mean_path = \"./class_barycenter/COCO_train/1_mean.pkl\"\n",
    "\n",
    "with open(cov_path, \"rb\") as f:\n",
    "    covariance1 = pickle.load(f)\n",
    "\n",
    "with open(mean_path, \"rb\") as f:\n",
    "    mean1 = pickle.load(f)"
   ],
   "metadata": {
    "collapsed": false,
    "pycharm": {
     "name": "#%%\n"
    }
   }
  },
  {
   "cell_type": "code",
   "execution_count": 95,
   "outputs": [],
   "source": [
    "cov_path = \"./class_barycenter/COCO_train/2_cov.pkl\"\n",
    "mean_path = \"./class_barycenter/COCO_train/2_mean.pkl\"\n",
    "\n",
    "with open(cov_path, \"rb\") as f:\n",
    "    covariance2 = pickle.load(f)\n",
    "\n",
    "with open(mean_path, \"rb\") as f:\n",
    "    mean2 = pickle.load(f)"
   ],
   "metadata": {
    "collapsed": false,
    "pycharm": {
     "name": "#%%\n"
    }
   }
  },
  {
   "cell_type": "code",
   "execution_count": 137,
   "metadata": {
    "collapsed": true
   },
   "outputs": [],
   "source": [
    "def KL_divergence(mean1, mean2, covariance1, covariance2):\n",
    "    assert covariance1.shape == covariance2.shape\n",
    "    d = covariance1.shape[0]\n",
    "    sign = [-1, 1]\n",
    "    lndet = torch.linalg.slogdet(covariance2 @ torch.linalg.inv(covariance1))\n",
    "    lndet = lndet.logabsdet * sign[int(lndet.sign)]\n",
    "    prod = covariance2 @ torch.linalg.inv(covariance1)\n",
    "    scal_prod = torch.t(mean2-mean1) @ torch.linalg.inv(covariance1) @ (mean2-mean1)\n",
    "    return 1 / 2 * lndet - d / 2 + 1 / 2 * torch.trace(prod) + 1 / 2 * scal_prod"
   ]
  },
  {
   "cell_type": "code",
   "execution_count": 143,
   "outputs": [
    {
     "data": {
      "text/plain": "tensor(-3.0518e-05, device='cuda:0')"
     },
     "execution_count": 143,
     "metadata": {},
     "output_type": "execute_result"
    }
   ],
   "source": [
    "KL_divergence(mean1, mean1, covariance1, covariance1)"
   ],
   "metadata": {
    "collapsed": false,
    "pycharm": {
     "name": "#%%\n"
    }
   }
  },
  {
   "cell_type": "code",
   "execution_count": 124,
   "outputs": [],
   "source": [
    "import os\n",
    "path = \"./class_barycenter/COCO_train\"\n",
    "\n",
    "\n",
    "mean = [pkl for pkl in os.listdir(\"./class_barycenter/COCO_train\") if pkl.split('_')[1] == 'mean.pkl']\n",
    "cov =  [pkl for pkl in os.listdir(\"./class_barycenter/COCO_train\") if pkl.split('_')[1] == 'cov.pkl']"
   ],
   "metadata": {
    "collapsed": false,
    "pycharm": {
     "name": "#%%\n"
    }
   }
  },
  {
   "cell_type": "code",
   "execution_count": 122,
   "outputs": [],
   "source": [
    "import numpy as np\n",
    "\n",
    "n = len(mean)\n",
    "heatmap = np.zeros((n, n))"
   ],
   "metadata": {
    "collapsed": false,
    "pycharm": {
     "name": "#%%\n"
    }
   }
  },
  {
   "cell_type": "code",
   "execution_count": 145,
   "outputs": [
    {
     "data": {
      "text/plain": "'./class_barycenter/COCO_train\\\\9_mean.pkl'"
     },
     "execution_count": 145,
     "metadata": {},
     "output_type": "execute_result"
    }
   ],
   "source": [
    "mean1_path"
   ],
   "metadata": {
    "collapsed": false,
    "pycharm": {
     "name": "#%%\n"
    }
   }
  },
  {
   "cell_type": "code",
   "execution_count": 139,
   "outputs": [],
   "source": [
    "for i in range(n):\n",
    "    mean1_path = os.path.join(path, mean[i])\n",
    "    cov1_path = os.path.join(path, cov[i])\n",
    "    with open(mean1_path, 'rb') as f:\n",
    "        mean1 = pickle.load(f)\n",
    "    with open(cov1_path, 'rb') as f:\n",
    "        covariance1 = pickle.load(f)\n",
    "    for j in range(n):\n",
    "        mean2_path = os.path.join(path, mean[j])\n",
    "        cov2_path = os.path.join(path, cov[j])\n",
    "        with open(mean2_path, 'rb') as f:\n",
    "            mean2 = pickle.load(f)\n",
    "        with open(cov2_path, 'rb') as f:\n",
    "            covariance2 = pickle.load(f)\n",
    "\n",
    "        heatmap[i, j] = KL_divergence(mean1, mean2, covariance1, covariance2)"
   ],
   "metadata": {
    "collapsed": false,
    "pycharm": {
     "name": "#%%\n"
    }
   }
  },
  {
   "cell_type": "code",
   "execution_count": 133,
   "outputs": [
    {
     "data": {
      "text/plain": "array([[1718.57958984, 1261.83972168, 1898.01513672, ..., 1494.79589844,\n        1744.18188477, 2389.68017578],\n       [2580.91992188, 1718.5793457 , 3225.25537109, ..., 2573.23681641,\n        3896.42919922, 3830.80322266],\n       [2997.51708984, 2193.47045898, 1718.57946777, ..., 2584.38378906,\n        6578.38867188, 2772.10180664],\n       ...,\n       [2063.70043945, 1602.87463379, 2017.95458984, ..., 1718.57958984,\n        2080.04125977, 2773.20629883],\n       [1845.25012207, 1377.19506836, 2099.55786133, ..., 1551.64050293,\n        1718.57958984, 2721.92041016],\n       [1676.65930176, 1065.30932617, 1242.9083252 , ..., 1304.16186523,\n        1833.86657715, 1718.57958984]])"
     },
     "execution_count": 133,
     "metadata": {},
     "output_type": "execute_result"
    }
   ],
   "source": [
    "heatmap"
   ],
   "metadata": {
    "collapsed": false,
    "pycharm": {
     "name": "#%%\n"
    }
   }
  },
  {
   "cell_type": "code",
   "execution_count": 140,
   "outputs": [
    {
     "data": {
      "text/plain": "<matplotlib.image.AxesImage at 0x1f94b747940>"
     },
     "execution_count": 140,
     "metadata": {},
     "output_type": "execute_result"
    }
   ],
   "source": [
    "import matplotlib\n",
    "import matplotlib.pyplot as plt\n",
    "%matplotlib qt\n",
    "\n",
    "plt.imshow(heatmap)"
   ],
   "metadata": {
    "collapsed": false,
    "pycharm": {
     "name": "#%%\n"
    }
   }
  },
  {
   "cell_type": "code",
   "execution_count": null,
   "outputs": [],
   "source": [],
   "metadata": {
    "collapsed": false,
    "pycharm": {
     "name": "#%%\n"
    }
   }
  }
 ],
 "metadata": {
  "kernelspec": {
   "display_name": "Python 3",
   "language": "python",
   "name": "python3"
  },
  "language_info": {
   "codemirror_mode": {
    "name": "ipython",
    "version": 2
   },
   "file_extension": ".py",
   "mimetype": "text/x-python",
   "name": "python",
   "nbconvert_exporter": "python",
   "pygments_lexer": "ipython2",
   "version": "2.7.6"
  }
 },
 "nbformat": 4,
 "nbformat_minor": 0
}